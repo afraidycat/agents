{
 "cells": [
  {
   "cell_type": "markdown",
   "metadata": {},
   "source": [
    "# Welcome to the start of your adventure in Agentic AI"
   ]
  },
  {
   "cell_type": "markdown",
   "metadata": {},
   "source": [
    "<table style=\"margin: 0; text-align: left; width:100%\">\n",
    "    <tr>\n",
    "        <td style=\"width: 150px; height: 150px; vertical-align: middle;\">\n",
    "            <img src=\"../assets/stop.png\" width=\"150\" height=\"150\" style=\"display: block;\" />\n",
    "        </td>\n",
    "        <td>\n",
    "            <h2 style=\"color:#ff7800;\">Are you ready for action??</h2>\n",
    "            <span style=\"color:#ff7800;\">Have you completed all the setup steps in the <a href=\"../setup/\">setup</a> folder?<br/>\n",
    "            Have you checked out the guides in the <a href=\"../guides/01_intro.ipynb\">guides</a> folder?<br/>\n",
    "            Well in that case, you're ready!!\n",
    "            </span>\n",
    "        </td>\n",
    "    </tr>\n",
    "</table>"
   ]
  },
  {
   "cell_type": "markdown",
   "metadata": {},
   "source": [
    "<table style=\"margin: 0; text-align: left; width:100%\">\n",
    "    <tr>\n",
    "        <td style=\"width: 150px; height: 150px; vertical-align: middle;\">\n",
    "            <img src=\"../assets/tools.png\" width=\"150\" height=\"150\" style=\"display: block;\" />\n",
    "        </td>\n",
    "        <td>\n",
    "            <h2 style=\"color:#00bfff;\">This code is a live resource - keep an eye out for my updates</h2>\n",
    "            <span style=\"color:#00bfff;\">I push updates regularly. As people ask questions or have problems, I add more examples and improve explanations. As a result, the code below might not be identical to the videos, as I've added more steps and better comments. Consider this like an interactive book that accompanies the lectures.<br/><br/>\n",
    "            I try to send emails regularly with important updates related to the course. You can find this in the 'Announcements' section of Udemy in the left sidebar. You can also choose to receive my emails via your Notification Settings in Udemy. I'm respectful of your inbox and always try to add value with my emails!\n",
    "            </span>\n",
    "        </td>\n",
    "    </tr>\n",
    "</table>"
   ]
  },
  {
   "cell_type": "markdown",
   "metadata": {},
   "source": [
    "### And please do remember to contact me if I can help\n",
    "\n",
    "And I love to connect: https://www.linkedin.com/in/eddonner/\n",
    "\n",
    "\n",
    "### New to Notebooks like this one? Head over to the guides folder!\n",
    "\n",
    "Just to check you've already added the Python and Jupyter extensions to Cursor, if not already installed:\n",
    "- Open extensions (View >> extensions)\n",
    "- Search for python, and when the results show, click on the ms-python one, and Install it if not already installed\n",
    "- Search for jupyter, and when the results show, click on the Microsoft one, and Install it if not already installed  \n",
    "Then View >> Explorer to bring back the File Explorer.\n",
    "\n",
    "And then:\n",
    "1. Click where it says \"Select Kernel\" near the top right, and select the option called `.venv (Python 3.12.9)` or similar, which should be the first choice or the most prominent choice. You may need to choose \"Python Environments\" first.\n",
    "2. Click in each \"cell\" below, starting with the cell immediately below this text, and press Shift+Enter to run\n",
    "3. Enjoy!\n",
    "\n",
    "After you click \"Select Kernel\", if there is no option like `.venv (Python 3.12.9)` then please do the following:  \n",
    "1. On Mac: From the Cursor menu, choose Settings >> VS Code Settings (NOTE: be sure to select `VSCode Settings` not `Cursor Settings`);  \n",
    "On Windows PC: From the File menu, choose Preferences >> VS Code Settings(NOTE: be sure to select `VSCode Settings` not `Cursor Settings`)  \n",
    "2. In the Settings search bar, type \"venv\"  \n",
    "3. In the field \"Path to folder with a list of Virtual Environments\" put the path to the project root, like C:\\Users\\username\\projects\\agents (on a Windows PC) or /Users/username/projects/agents (on Mac or Linux).  \n",
    "And then try again.\n",
    "\n",
    "Having problems with missing Python versions in that list? Have you ever used Anaconda before? It might be interferring. Quit Cursor, bring up a new command line, and make sure that your Anaconda environment is deactivated:    \n",
    "`conda deactivate`  \n",
    "And if you still have any problems with conda and python versions, it's possible that you will need to run this too:  \n",
    "`conda config --set auto_activate_base false`  \n",
    "and then from within the Agents directory, you should be able to run `uv python list` and see the Python 3.12 version."
   ]
  },
  {
   "cell_type": "code",
   "execution_count": 1,
   "metadata": {},
   "outputs": [],
   "source": [
    "# First let's do an import\n",
    "from dotenv import load_dotenv\n"
   ]
  },
  {
   "cell_type": "code",
   "execution_count": 2,
   "metadata": {},
   "outputs": [
    {
     "data": {
      "text/plain": [
       "True"
      ]
     },
     "execution_count": 2,
     "metadata": {},
     "output_type": "execute_result"
    }
   ],
   "source": [
    "# Next it's time to load the API keys into environment variables\n",
    "\n",
    "load_dotenv(override=True)"
   ]
  },
  {
   "cell_type": "code",
   "execution_count": 3,
   "metadata": {},
   "outputs": [
    {
     "name": "stdout",
     "output_type": "stream",
     "text": [
      "OpenAI API Key exists and begins sk-proj-\n"
     ]
    }
   ],
   "source": [
    "# Check the keys\n",
    "\n",
    "import os\n",
    "openai_api_key = os.getenv('OPENAI_API_KEY')\n",
    "\n",
    "if openai_api_key:\n",
    "    print(f\"OpenAI API Key exists and begins {openai_api_key[:8]}\")\n",
    "else:\n",
    "    print(\"OpenAI API Key not set - please head to the troubleshooting guide in the setup folder\")\n",
    "    \n"
   ]
  },
  {
   "cell_type": "code",
   "execution_count": 4,
   "metadata": {},
   "outputs": [],
   "source": [
    "# And now - the all important import statement\n",
    "# If you get an import error - head over to troubleshooting guide\n",
    "\n",
    "from openai import OpenAI"
   ]
  },
  {
   "cell_type": "code",
   "execution_count": 5,
   "metadata": {},
   "outputs": [],
   "source": [
    "# And now we'll create an instance of the OpenAI class\n",
    "# If you're not sure what it means to create an instance of a class - head over to the guides folder!\n",
    "# If you get a NameError - head over to the guides folder to learn about NameErrors\n",
    "\n",
    "openai = OpenAI()"
   ]
  },
  {
   "cell_type": "code",
   "execution_count": 6,
   "metadata": {},
   "outputs": [],
   "source": [
    "# Create a list of messages in the familiar OpenAI format\n",
    "\n",
    "messages = [{\"role\": \"user\", \"content\": \"What is 2+2?\"}]"
   ]
  },
  {
   "cell_type": "code",
   "execution_count": 7,
   "metadata": {},
   "outputs": [
    {
     "name": "stdout",
     "output_type": "stream",
     "text": [
      "2 + 2 equals 4.\n"
     ]
    }
   ],
   "source": [
    "# And now call it! Any problems, head to the troubleshooting guide\n",
    "# This uses GPT 4.1 nano, the incredibly cheap model\n",
    "\n",
    "response = openai.chat.completions.create(\n",
    "    model=\"gpt-4.1-nano\",\n",
    "    messages=messages\n",
    ")\n",
    "\n",
    "print(response.choices[0].message.content)\n"
   ]
  },
  {
   "cell_type": "code",
   "execution_count": 8,
   "metadata": {},
   "outputs": [],
   "source": [
    "# And now - let's ask for a question:\n",
    "\n",
    "question = \"Please propose a hard, challenging question to assess someone's IQ. Respond only with the question.\"\n",
    "messages = [{\"role\": \"user\", \"content\": question}]\n"
   ]
  },
  {
   "cell_type": "code",
   "execution_count": 9,
   "metadata": {},
   "outputs": [
    {
     "name": "stdout",
     "output_type": "stream",
     "text": [
      "If two trains are traveling toward each other on the same track, starting 300 miles apart, with one train moving at 60 mph and the other at 40 mph, a bird flies back and forth between the two trains at 90 mph until they meet. How far has the bird traveled when the trains collide?\n"
     ]
    }
   ],
   "source": [
    "# ask it - this uses GPT 4.1 mini, still cheap but more powerful than nano\n",
    "\n",
    "response = openai.chat.completions.create(\n",
    "    model=\"gpt-4.1-mini\",\n",
    "    messages=messages\n",
    ")\n",
    "\n",
    "question = response.choices[0].message.content\n",
    "\n",
    "print(question)\n"
   ]
  },
  {
   "cell_type": "code",
   "execution_count": 10,
   "metadata": {},
   "outputs": [],
   "source": [
    "# form a new messages list\n",
    "messages = [{\"role\": \"user\", \"content\": question}]\n"
   ]
  },
  {
   "cell_type": "code",
   "execution_count": 11,
   "metadata": {},
   "outputs": [
    {
     "name": "stdout",
     "output_type": "stream",
     "text": [
      "Let's analyze the problem step-by-step:\n",
      "\n",
      "---\n",
      "\n",
      "### Given:\n",
      "- Distance between trains: \\( 300 \\) miles\n",
      "- Speed of train A: \\( 60 \\) mph\n",
      "- Speed of train B: \\( 40 \\) mph\n",
      "- Speed of bird: \\( 90 \\) mph\n",
      "\n",
      "---\n",
      "\n",
      "### Step 1: Find the time until trains collide\n",
      "\n",
      "Since the trains are moving towards each other, their relative speed is:\n",
      "\\[\n",
      "60 \\text{ mph} + 40 \\text{ mph} = 100 \\text{ mph}\n",
      "\\]\n",
      "\n",
      "Time until collision:\n",
      "\\[\n",
      "t = \\frac{\\text{distance}}{\\text{relative speed}} = \\frac{300 \\text{ miles}}{100 \\text{ mph}} = 3 \\text{ hours}\n",
      "\\]\n",
      "\n",
      "---\n",
      "\n",
      "### Step 2: Calculate the distance the bird travels\n",
      "\n",
      "The bird flies continuously during the entire time until collision, at a speed of 90 mph. So the total distance the bird travels is:\n",
      "\\[\n",
      "d = \\text{speed}_\\text{bird} \\times t = 90 \\times 3 = 270 \\text{ miles}\n",
      "\\]\n",
      "\n",
      "---\n",
      "\n",
      "### **Answer:** \n",
      "The bird has traveled **270 miles** when the two trains collide.\n"
     ]
    }
   ],
   "source": [
    "# Ask it again\n",
    "\n",
    "response = openai.chat.completions.create(\n",
    "    model=\"gpt-4.1-mini\",\n",
    "    messages=messages\n",
    ")\n",
    "\n",
    "answer = response.choices[0].message.content\n",
    "print(answer)\n"
   ]
  },
  {
   "cell_type": "code",
   "execution_count": 12,
   "metadata": {},
   "outputs": [
    {
     "data": {
      "text/markdown": [
       "Let's analyze the problem step-by-step:\n",
       "\n",
       "---\n",
       "\n",
       "### Given:\n",
       "- Distance between trains: \\( 300 \\) miles\n",
       "- Speed of train A: \\( 60 \\) mph\n",
       "- Speed of train B: \\( 40 \\) mph\n",
       "- Speed of bird: \\( 90 \\) mph\n",
       "\n",
       "---\n",
       "\n",
       "### Step 1: Find the time until trains collide\n",
       "\n",
       "Since the trains are moving towards each other, their relative speed is:\n",
       "\\[\n",
       "60 \\text{ mph} + 40 \\text{ mph} = 100 \\text{ mph}\n",
       "\\]\n",
       "\n",
       "Time until collision:\n",
       "\\[\n",
       "t = \\frac{\\text{distance}}{\\text{relative speed}} = \\frac{300 \\text{ miles}}{100 \\text{ mph}} = 3 \\text{ hours}\n",
       "\\]\n",
       "\n",
       "---\n",
       "\n",
       "### Step 2: Calculate the distance the bird travels\n",
       "\n",
       "The bird flies continuously during the entire time until collision, at a speed of 90 mph. So the total distance the bird travels is:\n",
       "\\[\n",
       "d = \\text{speed}_\\text{bird} \\times t = 90 \\times 3 = 270 \\text{ miles}\n",
       "\\]\n",
       "\n",
       "---\n",
       "\n",
       "### **Answer:** \n",
       "The bird has traveled **270 miles** when the two trains collide."
      ],
      "text/plain": [
       "<IPython.core.display.Markdown object>"
      ]
     },
     "metadata": {},
     "output_type": "display_data"
    }
   ],
   "source": [
    "from IPython.display import Markdown, display\n",
    "\n",
    "display(Markdown(answer))\n",
    "\n"
   ]
  },
  {
   "cell_type": "markdown",
   "metadata": {},
   "source": [
    "# Congratulations!\n",
    "\n",
    "That was a small, simple step in the direction of Agentic AI, with your new environment!\n",
    "\n",
    "Next time things get more interesting..."
   ]
  },
  {
   "cell_type": "markdown",
   "metadata": {},
   "source": [
    "<table style=\"margin: 0; text-align: left; width:100%\">\n",
    "    <tr>\n",
    "        <td style=\"width: 150px; height: 150px; vertical-align: middle;\">\n",
    "            <img src=\"../assets/exercise.png\" width=\"150\" height=\"150\" style=\"display: block;\" />\n",
    "        </td>\n",
    "        <td>\n",
    "            <h2 style=\"color:#ff7800;\">Exercise</h2>\n",
    "            <span style=\"color:#ff7800;\">Now try this commercial application:<br/>\n",
    "            First ask the LLM to pick a business area that might be worth exploring for an Agentic AI opportunity.<br/>\n",
    "            Then ask the LLM to present a pain-point in that industry - something challenging that might be ripe for an Agentic solution.<br/>\n",
    "            Finally have 3 third LLM call propose the Agentic AI solution.\n",
    "            </span>\n",
    "        </td>\n",
    "    </tr>\n",
    "</table>"
   ]
  },
  {
   "cell_type": "code",
   "execution_count": 26,
   "metadata": {},
   "outputs": [
    {
     "name": "stdout",
     "output_type": "stream",
     "text": [
      "Business idea: One promising business area worth exploring for an Agentic AI opportunity in small businesses is personalized customer service and engagement. Small businesses often struggle to provide the same level of personalized interaction and support that larger companies can afford. An Agentic AI solution could automate and enhance customer interactions by leveraging customer data to tailor communications, provide instant query resolution, and offer personalized recommendations or solutions.\n",
      "\n",
      "This AI could operate through multiple channels such as email, chat, and social media, allowing small businesses to maintain high-quality customer interaction without increasing their headcount. Additionally, by analyzing customer behavior and feedback, the AI could identify trends and insights, helping small businesses improve their offerings and tailor their marketing strategies more effectively. This automation not only saves time and resources but also ensures that customers consistently receive attentive and personalized service, enhancing customer satisfaction and loyalty.\n",
      "Pain-points: ['1. **Data Privacy and Security Concerns**: Small businesses may have limited resources and expertise to manage the compliance and security measures necessary for handling customer data securely. The use of Agentic AI for personalized customer service requires accessing and processing customer data, which could raise concerns about data privacy among customers and create potential vulnerabilities for data breaches. Businesses must ensure robust data protection mechanisms and adherence to relevant regulations such as GDPR or CCPA, which can be challenging without expert guidance.', '2. **Integration with Existing Systems**: Implementing an Agentic AI solution for personalized customer engagement may require seamless integration with existing CRM, email, social media, and customer support systems. Many small businesses rely on a patchwork of legacy systems and manual processes, making integration complex and possibly costly. The difficulty of attaining seamless functionality without disrupting daily operations can be a significant barrier to adoption.', \"3. **Initial Cost and Technology Adoption**: Despite potential cost-savings in the long run, the upfront investment required for deploying an Agentic AI system can be a deterrent for small businesses with tight budgets. Additionally, there might be a steep learning curve for staff who need to understand and interact with the AI system. Resistance to change and the need for ongoing training can slow down the adoption process and potentially lead to underutilization of the AI's capabilities.\"]\n",
      "Solution: To address data privacy and security concerns effectively, a quick Agentic AI solution for small businesses could be the integration of a **Privacy-First AI Platform**. This solution is designed to minimize data handling complexities while ensuring compliance and security from the ground up.\n",
      "\n",
      "### Key Features:\n",
      "\n",
      "1. **Built-in Compliance Tools**: The platform includes automated compliance checks for regulations such as GDPR and CCPA, providing templates and guidelines that help small businesses adhere to legal requirements without needing deep expertise.\n",
      "\n",
      "2. **Data Anonymization and Encryption**: The AI solution automatically anonymizes and encrypts customer data, ensuring that sensitive information is protected during processing and storage. This reduces the risk of data breaches or misuse.\n",
      "\n",
      "3. **Consent Management System**: The platform offers an easy-to-use consent management interface that helps businesses obtain, store, and manage customer consent for data usage, making it straightforward to maintain compliance with privacy laws.\n",
      "\n",
      "4. **Real-time Security Monitoring**: Incorporate real-time monitoring and alert systems to detect and respond to any potential security threats quickly, ensuring that businesses can act proactively to protect customer data.\n",
      "\n",
      "5. **Privacy Audits and Reports**: Provide tools for conducting regular privacy audits, along with easy-to-understand reports, to ensure ongoing compliance and identify areas for improvement in data security practices.\n",
      "\n",
      "By using a ready-to-deploy privacy-first AI platform, small businesses can mitigate the complexity and resource constraints involved in managing data privacy and security while leveraging AI's capabilities for personalized customer service.\n"
     ]
    }
   ],
   "source": [
    "# 1. Start with a system message (optional but helps)\n",
    "messages = [\n",
    "    {\"role\": \"system\", \"content\": \"You are a go-to-market (GTM) engineer specializing in AI solutions for small businesses.\"},\n",
    "    {\"role\": \"user\", \"content\": \"Identify one business area worth exploring for an Agentic AI opportunity in small business.\"}\n",
    "]\n",
    "\n",
    "# 2. First call\n",
    "resp1 = openai.chat.completions.create(\n",
    "    model=\"gpt-4o\",            # use a valid model name\n",
    "    messages=messages\n",
    ")\n",
    "business_idea = resp1.choices[0].message.content.strip()\n",
    "messages.append({\"role\": \"assistant\", \"content\": business_idea})\n",
    "\n",
    "# 3. Ask for 3 pain-points, preserving history\n",
    "prompt2 = f\"Please present three distinct pain-points for this idea: {business_idea}\"\n",
    "messages.append({\"role\": \"user\", \"content\": prompt2})\n",
    "resp2 = openai.chat.completions.create(model=\"gpt-4o\", messages=messages)\n",
    "pain_points_text = resp2.choices[0].message.content.strip()\n",
    "messages.append({\"role\": \"assistant\", \"content\": pain_points_text})\n",
    "\n",
    "# 4. Parse out the pain-points in Python\n",
    "points = [p.strip() for p in pain_points_text.splitlines() if p and p[0].isdigit()]\n",
    "# e.g. [\"1. Inventory management is …\", ...]\n",
    "\n",
    "# 5. Pick one and ask for a quick win solution\n",
    "chosen = points[0]  # or let the user pick\n",
    "prompt3 = f\"Recommend a quick, agentic AI solution to address this pain-point:\\n{chosen}\"\n",
    "messages.append({\"role\": \"user\", \"content\": prompt3})\n",
    "resp3 = openai.chat.completions.create(model=\"gpt-4o\", messages=messages)\n",
    "solution = resp3.choices[0].message.content.strip()\n",
    "\n",
    "print(\"Business idea:\", business_idea)\n",
    "print(\"Pain-points:\", points)\n",
    "print(\"Solution:\", solution)\n",
    "\n",
    "# # First create the messages:\n",
    "\n",
    "# messages = [{\"role\": \"user\", \"content\": \"I would like you to identify a business area that might be worth exploring for an Agentic AI opportunity. This opportunity should be in Small Business.\"}]\n",
    "\n",
    "# # Then make the first call:\n",
    "\n",
    "# response = openai.chat.completions.create(\n",
    "#     model=\"gpt-4.1-nano\",\n",
    "#     messages=messages\n",
    "# )\n",
    "\n",
    "# # Then read the business idea:\n",
    "\n",
    "# business_idea = response.choices[0].message.content\n",
    "# print(business_idea)\n",
    "\n",
    "# # And repeat!\n",
    "\n",
    "# pain_point = f\"Please present three pain-points for the {business_idea}.\"\n",
    "# messages = [{\"role\": \"user\", \"content\": pain_point}]\n",
    "\n",
    "# response = openai.chat.completions.create(\n",
    "#     model=\"gpt-4.1-nano\",\n",
    "#     messages=messages \n",
    "# )\n",
    "\n",
    "# pain_point = response.choices[0].message.content\n",
    "# print(pain_point)\n",
    "\n",
    "# solution = f\"Please recommend a solution to one of the {pain_point} referenced here. Ensure the solution is timely and can be quickly solved with an Agentic Solution so the Small Business can see benefits immediately.\"\n",
    "# messages = [{\"role\": \"user\", \"content\": solution}]\n",
    "\n",
    "# response = openai.chat.completions.create(\n",
    "#     model=\"gpt-4.1-nano\",\n",
    "#     messages=messages\n",
    "# )\n",
    "\n",
    "# solution = response.choices[0].message.content\n",
    "# print(solution)"
   ]
  },
  {
   "cell_type": "markdown",
   "metadata": {},
   "source": []
  }
 ],
 "metadata": {
  "kernelspec": {
   "display_name": ".venv",
   "language": "python",
   "name": "python3"
  },
  "language_info": {
   "codemirror_mode": {
    "name": "ipython",
    "version": 3
   },
   "file_extension": ".py",
   "mimetype": "text/x-python",
   "name": "python",
   "nbconvert_exporter": "python",
   "pygments_lexer": "ipython3",
   "version": "3.12.9"
  }
 },
 "nbformat": 4,
 "nbformat_minor": 2
}
