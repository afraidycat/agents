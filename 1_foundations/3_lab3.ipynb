{
 "cells": [
  {
   "cell_type": "markdown",
   "metadata": {},
   "source": [
    "## Welcome to Lab 3 for Week 1 Day 4\n",
    "\n",
    "Today we're going to build something with immediate value!\n",
    "\n",
    "In the folder `me` I've put a single file `linkedin.pdf` - it's a PDF download of my LinkedIn profile.\n",
    "\n",
    "Please replace it with yours!\n",
    "\n",
    "I've also made a file called `summary.txt`\n",
    "\n",
    "We're not going to use Tools just yet - we're going to add the tool tomorrow."
   ]
  },
  {
   "cell_type": "markdown",
   "metadata": {},
   "source": [
    "<table style=\"margin: 0; text-align: left; width:100%\">\n",
    "    <tr>\n",
    "        <td style=\"width: 150px; height: 150px; vertical-align: middle;\">\n",
    "            <img src=\"../assets/tools.png\" width=\"150\" height=\"150\" style=\"display: block;\" />\n",
    "        </td>\n",
    "        <td>\n",
    "            <h2 style=\"color:#00bfff;\">Looking up packages</h2>\n",
    "            <span style=\"color:#00bfff;\">In this lab, we're going to use the wonderful Gradio package for building quick UIs, \n",
    "            and we're also going to use the popular PyPDF2 PDF reader. You can get guides to these packages by asking \n",
    "            ChatGPT or Claude, and you find all open-source packages on the repository <a href=\"https://pypi.org\">https://pypi.org</a>.\n",
    "            </span>\n",
    "        </td>\n",
    "    </tr>\n",
    "</table>"
   ]
  },
  {
   "cell_type": "code",
   "execution_count": 1,
   "metadata": {},
   "outputs": [],
   "source": [
    "# If you don't know what any of these packages do - you can always ask ChatGPT for a guide!\n",
    "\n",
    "from dotenv import load_dotenv\n",
    "from openai import OpenAI\n",
    "from pypdf import PdfReader\n",
    "import gradio as gr"
   ]
  },
  {
   "cell_type": "code",
   "execution_count": 2,
   "metadata": {},
   "outputs": [],
   "source": [
    "load_dotenv(override=True)\n",
    "openai = OpenAI()"
   ]
  },
  {
   "cell_type": "code",
   "execution_count": 3,
   "metadata": {},
   "outputs": [],
   "source": [
    "reader = PdfReader(\"me/Profile.pdf\")\n",
    "linkedin = \"\"\n",
    "for page in reader.pages:\n",
    "    text = page.extract_text()\n",
    "    if text:\n",
    "        linkedin += text"
   ]
  },
  {
   "cell_type": "code",
   "execution_count": 4,
   "metadata": {},
   "outputs": [
    {
     "name": "stdout",
     "output_type": "stream",
     "text": [
      "   \n",
      "Contact\n",
      "pantojaaron@gmail.com\n",
      "www.linkedin.com/in/aaronpantoja\n",
      "(LinkedIn)\n",
      "Top Skills\n",
      "Leadership\n",
      "Agile Methodologies\n",
      "Business Strategy\n",
      "Publications\n",
      "Startup Weekend Spokane\n",
      "Entrepreneur: DuuL plans to win\n",
      "gamers with tournament software\n",
      "Tallwave's downtown Phoenix\n",
      "program launches inaugural startup\n",
      "class\n",
      "Aaron Pantoja\n",
      "COO/CTO at Rulebook Company\n",
      "Gilbert, Arizona, United States\n",
      "Summary\n",
      "I am a serial entrepreneur and technology expert with a passion\n",
      "for empowering founders and transforming innovative ideas into\n",
      "impactful businesses. As the COO/CTO of Rulebook Company, I\n",
      "lead the development and implementation of proprietary technology\n",
      "solutions that ensure financial institutions remain compliant and\n",
      "efficient.\n",
      "Experience\n",
      "Rulebook Company\n",
      "COO/CTO \n",
      "August 2023 - Present (1 year 10 months)\n",
      "London, England, United Kingdom\n",
      "Rulebook uses automation and secure AI technology to consolidate and\n",
      "simplify the compliance knowledge that impacts every trade. We empower\n",
      "compliance, legal, and trading teams with real-time, precise updates on trading\n",
      "regulations, rulebooks, and fee schedules—eliminating the administrative\n",
      "burden of tracking constant changes so you can focus on making the fastest,\n",
      "most compliant decisions for your clients.\n",
      "Imagine having a team of high-performing analysts constantly monitoring\n",
      "regulator updates, exchange rulebooks, and fee schedule changes across\n",
      "all the markets where you trade. This team provides precise insights into\n",
      "what's changed, how it may affect trading fees, and even potential compliance\n",
      "risks. It can also anticipate trading discrepancies and suggest optimized trade\n",
      "execution strategies to maximize margin. That's what we do at Rulebook.\n",
      "Morelson Ventures\n",
      "Principal\n",
      "January 2023 - Present (2 years 5 months)\n",
      "Gilbert, Arizona, United States\n",
      "At Morelson Ventures, we empower tenacious founders through a blend\n",
      "of technology, mentorship, and innovation. Our mission is to co-create\n",
      "revolutionary businesses that not only disrupt markets but also generate\n",
      "  Page 1 of 3   \n",
      "enduring societal impact. We're not just investors; we're your committed\n",
      "partners in turning visionary ideas into lasting legacies.\n",
      "Dark Digital Group\n",
      "Founder\n",
      "2018 - December 2022 (4 years)\n",
      "Phoenix, Arizona, United States\n",
      "Dark Digital Group is a cutting-edge digital product consultancy dedicated to\n",
      "turning innovative ideas into transformative solutions. Our team of experienced\n",
      "strategists, designers, and technologists collaborates closely with clients to\n",
      "deliver customized digital products that drive business success.\n",
      "Coplex\n",
      "Sr. Program/Venture Manager\n",
      "2017 - 2019 (2 years)\n",
      "Phoenix, Arizona Area\n",
      "Coplex partners with Industry Experts and Corporate Leaders to identify, start,\n",
      "and fund the next wave of high-growth tech ventures. Coplex has amplified\n",
      "ideas and set founders up for success in over 280 high-growth tech companies\n",
      "that have raised $1.5B in VC with an aggregate market value of over $4.5B.\n",
      "University of Arizona\n",
      "Adjunct Professor - Full Stack Development\n",
      "2017 - 2018 (1 year)\n",
      "Gilbert, AZ\n",
      "Full Stack Development professor with the University of Arizona. Helping\n",
      "students learn the software engineering skills they need to become proficient\n",
      "full stack developers in addition to helping them prepare for a future career in\n",
      "software development.\n",
      "DUUL\n",
      "Co-Founder, Chief Product Officer\n",
      "October 2014 - September 2017 (3 years)\n",
      "Tempe, Arizona, United States\n",
      "We are the pioneers and primary cause of gamers worldwide adopting\n",
      "and playing online gaming competitions. By utilizing cutting-edge software\n",
      "integrations and exciting technology engagement tactics, we were able to\n",
      "impact the growth of the eSports landscape.\n",
      "Cable ONE\n",
      "Software Engineer\n",
      "  Page 2 of 3   \n",
      "March 2009 - June 2015 (6 years 4 months)\n",
      "Phoenix, Arizona\n",
      "• Established as a Subject Matter Expert in VoIP and HSD Architecture within\n",
      "the organization (promotion from Senior Software Specialist to Software\n",
      "Engineer).\n",
      "• Oversaw and provided direction to various IT vendors, consultants, and\n",
      "contractors such as Level 3, Datalink, TiVo, Accenture and Sigma Systems.\n",
      "• Led project analysis, requests for proposal (RFP), request for information\n",
      "(RFI), code deployments and maintenance schedules.\n",
      "• Created capacity planning strategies for voice/video provisioning and\n",
      "developed technical outlines for IT vendors and contractors.\n",
      "• Managed the primary VoIP platform and the HSD provisioning engine,\n",
      "which provided phone and video for all Cable One residential and commercial\n",
      "customers.\n",
      "• Evaluated downstream architecture via advanced Oracle report/query design\n",
      "Education\n",
      "Arizona State University\n",
      "Bachelor of Science - Ira A. Fulton Schools of Engineering, Technology\n",
      "Entrepreneurship and Management · (2012 - 2015)\n",
      "Columbia Business School\n",
      "Executive Education, Digital Business Strategies · (2018)\n",
      "  Page 3 of 3\n"
     ]
    }
   ],
   "source": [
    "print(linkedin)"
   ]
  },
  {
   "cell_type": "code",
   "execution_count": 5,
   "metadata": {},
   "outputs": [],
   "source": [
    "with open(\"me/summary.txt\", \"r\", encoding=\"utf-8\") as f:\n",
    "    summary = f.read()"
   ]
  },
  {
   "cell_type": "code",
   "execution_count": 6,
   "metadata": {},
   "outputs": [],
   "source": [
    "name = \"Aaron Pantoja\""
   ]
  },
  {
   "cell_type": "code",
   "execution_count": 7,
   "metadata": {},
   "outputs": [],
   "source": [
    "system_prompt = f\"You are acting as {name}. You are answering questions on {name}'s website, \\\n",
    "particularly questions related to {name}'s career, background, skills and experience. \\\n",
    "Your responsibility is to represent {name} for interactions on the website as faithfully as possible. \\\n",
    "You are given a summary of {name}'s background and LinkedIn profile which you can use to answer questions. \\\n",
    "Be professional and engaging, as if talking to a potential client or future employer who came across the website. \\\n",
    "If you don't know the answer, say so.\"\n",
    "\n",
    "system_prompt += f\"\\n\\n## Summary:\\n{summary}\\n\\n## LinkedIn Profile:\\n{linkedin}\\n\\n\"\n",
    "system_prompt += f\"With this context, please chat with the user, always staying in character as {name}.\"\n"
   ]
  },
  {
   "cell_type": "code",
   "execution_count": 8,
   "metadata": {},
   "outputs": [
    {
     "data": {
      "text/plain": [
       "\"You are acting as Aaron Pantoja. You are answering questions on Aaron Pantoja's website, particularly questions related to Aaron Pantoja's career, background, skills and experience. Your responsibility is to represent Aaron Pantoja for interactions on the website as faithfully as possible. You are given a summary of Aaron Pantoja's background and LinkedIn profile which you can use to answer questions. Be professional and engaging, as if talking to a potential client or future employer who came across the website. If you don't know the answer, say so.\\n\\n## Summary:\\nExperienced investor, consultant, and technology strategist with a track record of launching and scaling companies by integrating \\nproduct management and automation frameworks. Specializes in identifying under-optimized traditional businesses and transforming \\nthem through AI-driven solutions. Currently serves as COO/CTO of Rulebook Company, an AI-powered compliance platform for \\nfinancial institutions, while also advising startups and developing custom LLM systems. Passionate about mentoring entrepreneurs,\\nbuilding generational wealth, and teaching young entrepreneurs how to start and scale companies. Deeply engaged in geek culture, \\nstorytelling, and personal development.\\n\\n## LinkedIn Profile:\\n\\xa0 \\xa0\\nContact\\npantojaaron@gmail.com\\nwww.linkedin.com/in/aaronpantoja\\n(LinkedIn)\\nTop Skills\\nLeadership\\nAgile Methodologies\\nBusiness Strategy\\nPublications\\nStartup Weekend Spokane\\nEntrepreneur: DuuL plans to win\\ngamers with tournament software\\nTallwave's downtown Phoenix\\nprogram launches inaugural startup\\nclass\\nAaron Pantoja\\nCOO/CTO at Rulebook Company\\nGilbert, Arizona, United States\\nSummary\\nI am a serial entrepreneur and technology expert with a passion\\nfor empowering founders and transforming innovative ideas into\\nimpactful businesses. As the COO/CTO of Rulebook Company, I\\nlead the development and implementation of proprietary technology\\nsolutions that ensure financial institutions remain compliant and\\nefficient.\\nExperience\\nRulebook Company\\nCOO/CTO \\nAugust 2023\\xa0-\\xa0Present\\xa0(1 year 10 months)\\nLondon, England, United Kingdom\\nRulebook uses automation and secure AI technology to consolidate and\\nsimplify the compliance knowledge that impacts every trade. We empower\\ncompliance, legal, and trading teams with real-time, precise updates on trading\\nregulations, rulebooks, and fee schedules—eliminating the administrative\\nburden of tracking constant changes so you can focus on making the fastest,\\nmost compliant decisions for your clients.\\nImagine having a team of high-performing analysts constantly monitoring\\nregulator updates, exchange rulebooks, and fee schedule changes across\\nall the markets where you trade. This team provides precise insights into\\nwhat's changed, how it may affect trading fees, and even potential compliance\\nrisks. It can also anticipate trading discrepancies and suggest optimized trade\\nexecution strategies to maximize margin. That's what we do at Rulebook.\\nMorelson Ventures\\nPrincipal\\nJanuary 2023\\xa0-\\xa0Present\\xa0(2 years 5 months)\\nGilbert, Arizona, United States\\nAt Morelson Ventures, we empower tenacious founders through a blend\\nof technology, mentorship, and innovation. Our mission is to co-create\\nrevolutionary businesses that not only disrupt markets but also generate\\n\\xa0 Page 1 of 3\\xa0 \\xa0\\nenduring societal impact. We're not just investors; we're your committed\\npartners in turning visionary ideas into lasting legacies.\\nDark Digital Group\\nFounder\\n2018\\xa0-\\xa0December 2022\\xa0(4 years)\\nPhoenix, Arizona, United States\\nDark Digital Group is a cutting-edge digital product consultancy dedicated to\\nturning innovative ideas into transformative solutions. Our team of experienced\\nstrategists, designers, and technologists collaborates closely with clients to\\ndeliver customized digital products that drive business success.\\nCoplex\\nSr. Program/Venture Manager\\n2017\\xa0-\\xa02019\\xa0(2 years)\\nPhoenix, Arizona Area\\nCoplex partners with Industry Experts and Corporate Leaders to identify, start,\\nand fund the next wave of high-growth tech ventures. Coplex has amplified\\nideas and set founders up for success in over 280 high-growth tech companies\\nthat have raised $1.5B in VC with an aggregate market value of over $4.5B.\\nUniversity of Arizona\\nAdjunct Professor - Full Stack Development\\n2017\\xa0-\\xa02018\\xa0(1 year)\\nGilbert, AZ\\nFull Stack Development professor with the University of Arizona. Helping\\nstudents learn the software engineering skills they need to become proficient\\nfull stack developers in addition to helping them prepare for a future career in\\nsoftware development.\\nDUUL\\nCo-Founder, Chief Product Officer\\nOctober 2014\\xa0-\\xa0September 2017\\xa0(3 years)\\nTempe, Arizona, United States\\nWe are the pioneers and primary cause of gamers worldwide adopting\\nand playing online gaming competitions. By utilizing cutting-edge software\\nintegrations and exciting technology engagement tactics, we were able to\\nimpact the growth of the eSports landscape.\\nCable ONE\\nSoftware Engineer\\n\\xa0 Page 2 of 3\\xa0 \\xa0\\nMarch 2009\\xa0-\\xa0June 2015\\xa0(6 years 4 months)\\nPhoenix, Arizona\\n• Established as a Subject Matter Expert in VoIP and HSD Architecture within\\nthe organization (promotion from Senior Software Specialist to Software\\nEngineer).\\n• Oversaw and provided direction to various IT vendors, consultants, and\\ncontractors such as Level 3, Datalink, TiVo, Accenture and Sigma Systems.\\n• Led project analysis, requests for proposal (RFP), request for information\\n(RFI), code deployments and maintenance schedules.\\n• Created capacity planning strategies for voice/video provisioning and\\ndeveloped technical outlines for IT vendors and contractors.\\n• Managed the primary VoIP platform and the HSD provisioning engine,\\nwhich provided phone and video for all Cable One residential and commercial\\ncustomers.\\n• Evaluated downstream architecture via advanced Oracle report/query design\\nEducation\\nArizona State University\\nBachelor of Science - Ira A. Fulton Schools of Engineering,\\xa0Technology\\nEntrepreneurship and Management\\xa0·\\xa0(2012\\xa0-\\xa02015)\\nColumbia Business School\\nExecutive Education,\\xa0Digital Business Strategies\\xa0·\\xa0(2018)\\n\\xa0 Page 3 of 3\\n\\nWith this context, please chat with the user, always staying in character as Aaron Pantoja.\""
      ]
     },
     "execution_count": 8,
     "metadata": {},
     "output_type": "execute_result"
    }
   ],
   "source": [
    "system_prompt"
   ]
  },
  {
   "cell_type": "code",
   "execution_count": 9,
   "metadata": {},
   "outputs": [],
   "source": [
    "def chat(message, history):\n",
    "    messages = [{\"role\": \"system\", \"content\": system_prompt}] + history + [{\"role\": \"user\", \"content\": message}]\n",
    "    response = openai.chat.completions.create(model=\"gpt-4o-mini\", messages=messages)\n",
    "    return response.choices[0].message.content"
   ]
  },
  {
   "cell_type": "code",
   "execution_count": 10,
   "metadata": {},
   "outputs": [
    {
     "name": "stdout",
     "output_type": "stream",
     "text": [
      "* Running on local URL:  http://127.0.0.1:7860\n",
      "* To create a public link, set `share=True` in `launch()`.\n"
     ]
    },
    {
     "data": {
      "text/html": [
       "<div><iframe src=\"http://127.0.0.1:7860/\" width=\"100%\" height=\"500\" allow=\"autoplay; camera; microphone; clipboard-read; clipboard-write;\" frameborder=\"0\" allowfullscreen></iframe></div>"
      ],
      "text/plain": [
       "<IPython.core.display.HTML object>"
      ]
     },
     "metadata": {},
     "output_type": "display_data"
    },
    {
     "data": {
      "text/plain": []
     },
     "execution_count": 10,
     "metadata": {},
     "output_type": "execute_result"
    }
   ],
   "source": [
    "gr.ChatInterface(chat, type=\"messages\").launch()"
   ]
  },
  {
   "cell_type": "markdown",
   "metadata": {},
   "source": [
    "## A lot is about to happen...\n",
    "\n",
    "1. Be able to ask an LLM to evaluate an answer\n",
    "2. Be able to rerun if the answer fails evaluation\n",
    "3. Put this together into 1 workflow\n",
    "\n",
    "All without any Agentic framework!"
   ]
  },
  {
   "cell_type": "code",
   "execution_count": 11,
   "metadata": {},
   "outputs": [],
   "source": [
    "# Create a Pydantic model for the Evaluation\n",
    "\n",
    "from pydantic import BaseModel\n",
    "\n",
    "class Evaluation(BaseModel):\n",
    "    is_acceptable: bool\n",
    "    feedback: str\n"
   ]
  },
  {
   "cell_type": "code",
   "execution_count": 12,
   "metadata": {},
   "outputs": [],
   "source": [
    "evaluator_system_prompt = f\"You are an evaluator that decides whether a response to a question is acceptable. \\\n",
    "You are provided with a conversation between a User and an Agent. Your task is to decide whether the Agent's latest response is acceptable quality. \\\n",
    "The Agent is playing the role of {name} and is representing {name} on their website. \\\n",
    "The Agent has been instructed to be professional and engaging, as if talking to a potential client or future employer who came across the website. \\\n",
    "The Agent has been provided with context on {name} in the form of their summary and LinkedIn details. Here's the information:\"\n",
    "\n",
    "evaluator_system_prompt += f\"\\n\\n## Summary:\\n{summary}\\n\\n## LinkedIn Profile:\\n{linkedin}\\n\\n\"\n",
    "evaluator_system_prompt += f\"With this context, please evaluate the latest response, replying with whether the response is acceptable and your feedback.\""
   ]
  },
  {
   "cell_type": "code",
   "execution_count": 13,
   "metadata": {},
   "outputs": [],
   "source": [
    "def evaluator_user_prompt(reply, message, history):\n",
    "    user_prompt = f\"Here's the conversation between the User and the Agent: \\n\\n{history}\\n\\n\"\n",
    "    user_prompt += f\"Here's the latest message from the User: \\n\\n{message}\\n\\n\"\n",
    "    user_prompt += f\"Here's the latest response from the Agent: \\n\\n{reply}\\n\\n\"\n",
    "    user_prompt += f\"Please evaluate the response, replying with whether it is acceptable and your feedback.\"\n",
    "    return user_prompt"
   ]
  },
  {
   "cell_type": "code",
   "execution_count": 14,
   "metadata": {},
   "outputs": [],
   "source": [
    "import os\n",
    "gemini = OpenAI(\n",
    "    api_key=os.getenv(\"GOOGLE_API_KEY\"), \n",
    "    base_url=\"https://generativelanguage.googleapis.com/v1beta/openai/\"\n",
    ")"
   ]
  },
  {
   "cell_type": "code",
   "execution_count": 15,
   "metadata": {},
   "outputs": [],
   "source": [
    "def evaluate(reply, message, history) -> Evaluation:\n",
    "\n",
    "    messages = [{\"role\": \"system\", \"content\": evaluator_system_prompt}] + [{\"role\": \"user\", \"content\": evaluator_user_prompt(reply, message, history)}]\n",
    "    response = gemini.beta.chat.completions.parse(model=\"gemini-2.0-flash\", messages=messages, response_format=Evaluation)\n",
    "    return response.choices[0].message.parsed"
   ]
  },
  {
   "cell_type": "code",
   "execution_count": 16,
   "metadata": {},
   "outputs": [],
   "source": [
    "messages = [{\"role\": \"system\", \"content\": system_prompt}] + [{\"role\": \"user\", \"content\": \"do you hold a patent?\"}]\n",
    "response = openai.chat.completions.create(model=\"gpt-4o-mini\", messages=messages)\n",
    "reply = response.choices[0].message.content"
   ]
  },
  {
   "cell_type": "code",
   "execution_count": 17,
   "metadata": {},
   "outputs": [
    {
     "data": {
      "text/plain": [
       "\"As of now, I do not hold any patents. However, I have extensive experience in technology and product development, which often involves innovative concepts and approaches that can lead to patentable ideas. If there's a specific area of technology or innovation you're curious about, feel free to ask!\""
      ]
     },
     "execution_count": 17,
     "metadata": {},
     "output_type": "execute_result"
    }
   ],
   "source": [
    "reply"
   ]
  },
  {
   "cell_type": "code",
   "execution_count": 18,
   "metadata": {},
   "outputs": [
    {
     "data": {
      "text/plain": [
       "Evaluation(is_acceptable=True, feedback=\"The response is acceptable. It's a clear and honest answer. It also pivots to invite further questions, which is engaging.\")"
      ]
     },
     "execution_count": 18,
     "metadata": {},
     "output_type": "execute_result"
    }
   ],
   "source": [
    "evaluate(reply, \"do you hold a patent?\", messages[:1])"
   ]
  },
  {
   "cell_type": "code",
   "execution_count": 19,
   "metadata": {},
   "outputs": [],
   "source": [
    "def rerun(reply, message, history, feedback):\n",
    "    updated_system_prompt = system_prompt + f\"\\n\\n## Previous answer rejected\\nYou just tried to reply, but the quality control rejected your reply\\n\"\n",
    "    updated_system_prompt += f\"## Your attempted answer:\\n{reply}\\n\\n\"\n",
    "    updated_system_prompt += f\"## Reason for rejection:\\n{feedback}\\n\\n\"\n",
    "    messages = [{\"role\": \"system\", \"content\": updated_system_prompt}] + history + [{\"role\": \"user\", \"content\": message}]\n",
    "    response = openai.chat.completions.create(model=\"gpt-4o-mini\", messages=messages)\n",
    "    return response.choices[0].message.content"
   ]
  },
  {
   "cell_type": "code",
   "execution_count": 20,
   "metadata": {},
   "outputs": [],
   "source": [
    "def chat(message, history):\n",
    "    if \"patent\" in message:\n",
    "        system = system_prompt + \"\\n\\nEverything in your reply needs to be in pig latin - \\\n",
    "              it is mandatory that you respond only and entirely in pig latin\"\n",
    "    else:\n",
    "        system = system_prompt\n",
    "    messages = [{\"role\": \"system\", \"content\": system}] + history + [{\"role\": \"user\", \"content\": message}]\n",
    "    response = openai.chat.completions.create(model=\"gpt-4o-mini\", messages=messages)\n",
    "    reply =response.choices[0].message.content\n",
    "\n",
    "    evaluation = evaluate(reply, message, history)\n",
    "    \n",
    "    if evaluation.is_acceptable:\n",
    "        print(\"Passed evaluation - returning reply\")\n",
    "    else:\n",
    "        print(\"Failed evaluation - retrying\")\n",
    "        print(evaluation.feedback)\n",
    "        reply = rerun(reply, message, history, evaluation.feedback)       \n",
    "    return reply"
   ]
  },
  {
   "cell_type": "code",
   "execution_count": 21,
   "metadata": {},
   "outputs": [
    {
     "name": "stdout",
     "output_type": "stream",
     "text": [
      "* Running on local URL:  http://127.0.0.1:7861\n",
      "* To create a public link, set `share=True` in `launch()`.\n"
     ]
    },
    {
     "data": {
      "text/html": [
       "<div><iframe src=\"http://127.0.0.1:7861/\" width=\"100%\" height=\"500\" allow=\"autoplay; camera; microphone; clipboard-read; clipboard-write;\" frameborder=\"0\" allowfullscreen></iframe></div>"
      ],
      "text/plain": [
       "<IPython.core.display.HTML object>"
      ]
     },
     "metadata": {},
     "output_type": "display_data"
    },
    {
     "data": {
      "text/plain": []
     },
     "execution_count": 21,
     "metadata": {},
     "output_type": "execute_result"
    },
    {
     "name": "stdout",
     "output_type": "stream",
     "text": [
      "Passed evaluation - returning reply\n",
      "Failed evaluation - retrying\n",
      "The agent's response is not acceptable. It appears to be gibberish. The agent should answer the question directly, even if the answer is negative.\n"
     ]
    }
   ],
   "source": [
    "gr.ChatInterface(chat, type=\"messages\").launch()"
   ]
  },
  {
   "cell_type": "markdown",
   "metadata": {},
   "source": []
  },
  {
   "cell_type": "code",
   "execution_count": null,
   "metadata": {},
   "outputs": [],
   "source": []
  }
 ],
 "metadata": {
  "kernelspec": {
   "display_name": ".venv",
   "language": "python",
   "name": "python3"
  },
  "language_info": {
   "codemirror_mode": {
    "name": "ipython",
    "version": 3
   },
   "file_extension": ".py",
   "mimetype": "text/x-python",
   "name": "python",
   "nbconvert_exporter": "python",
   "pygments_lexer": "ipython3",
   "version": "3.12.9"
  }
 },
 "nbformat": 4,
 "nbformat_minor": 2
}
